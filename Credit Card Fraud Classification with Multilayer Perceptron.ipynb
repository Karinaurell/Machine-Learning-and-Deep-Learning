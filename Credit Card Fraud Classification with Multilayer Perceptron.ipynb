{
  "cells": [
    {
      "cell_type": "markdown",
      "metadata": {
        "id": "Avr_BuLrV23M"
      },
      "source": [
        "* Libraries: Pandas/cuDF, Scikit-learn/cuML, Numpy/cuPy\n",
        "* Objective: Classify credit fraud transactions using Multilayer Perceptron"
      ]
    },
    {
      "cell_type": "markdown",
      "metadata": {
        "id": "o5YZC_D_ZCEy"
      },
      "source": [
        "### Import Libraries"
      ]
    },
    {
      "cell_type": "code",
      "execution_count": 1,
      "metadata": {
        "id": "dvStCFqxZlrS",
        "colab": {
          "base_uri": "https://localhost:8080/"
        },
        "outputId": "e0e01eae-2089-4e63-904e-d0ef02b3bb00"
      },
      "outputs": [
        {
          "output_type": "stream",
          "name": "stdout",
          "text": [
            "fatal: destination path 'rapidsai-csp-utils' already exists and is not an empty directory.\n",
            "Installing RAPIDS remaining 24.10.* libraries\n",
            "Looking in indexes: https://pypi.org/simple, https://pypi.nvidia.com\n",
            "Requirement already satisfied: cudf-cu12==24.10.* in /usr/local/lib/python3.10/dist-packages (24.10.1)\n",
            "Requirement already satisfied: cuml-cu12==24.10.* in /usr/local/lib/python3.10/dist-packages (24.10.0)\n",
            "Requirement already satisfied: cugraph-cu12==24.10.* in /usr/local/lib/python3.10/dist-packages (24.10.0)\n",
            "Requirement already satisfied: cuspatial-cu12==24.10.* in /usr/local/lib/python3.10/dist-packages (24.10.0)\n",
            "Requirement already satisfied: cuproj-cu12==24.10.* in /usr/local/lib/python3.10/dist-packages (24.10.0)\n",
            "Requirement already satisfied: cuxfilter-cu12==24.10.* in /usr/local/lib/python3.10/dist-packages (24.10.0)\n",
            "Requirement already satisfied: cucim-cu12==24.10.* in /usr/local/lib/python3.10/dist-packages (24.10.0)\n",
            "Requirement already satisfied: pylibraft-cu12==24.10.* in /usr/local/lib/python3.10/dist-packages (24.10.0)\n",
            "Requirement already satisfied: raft-dask-cu12==24.10.* in /usr/local/lib/python3.10/dist-packages (24.10.0)\n",
            "Requirement already satisfied: nx-cugraph-cu12==24.10.* in /usr/local/lib/python3.10/dist-packages (24.10.0)\n",
            "Requirement already satisfied: aiohttp in /usr/local/lib/python3.10/dist-packages (3.10.10)\n",
            "Requirement already satisfied: cachetools in /usr/local/lib/python3.10/dist-packages (from cudf-cu12==24.10.*) (5.5.0)\n",
            "Requirement already satisfied: cuda-python<13.0a0,>=12.0 in /usr/local/lib/python3.10/dist-packages (from cudf-cu12==24.10.*) (12.2.1)\n",
            "Requirement already satisfied: cupy-cuda12x>=12.0.0 in /usr/local/lib/python3.10/dist-packages (from cudf-cu12==24.10.*) (12.2.0)\n",
            "Requirement already satisfied: fsspec>=0.6.0 in /usr/local/lib/python3.10/dist-packages (from cudf-cu12==24.10.*) (2024.10.0)\n",
            "Requirement already satisfied: libcudf-cu12==24.10.* in /usr/local/lib/python3.10/dist-packages (from cudf-cu12==24.10.*) (24.10.1)\n",
            "Requirement already satisfied: numba>=0.57 in /usr/local/lib/python3.10/dist-packages (from cudf-cu12==24.10.*) (0.60.0)\n",
            "Requirement already satisfied: numpy<3.0a0,>=1.23 in /usr/local/lib/python3.10/dist-packages (from cudf-cu12==24.10.*) (1.26.4)\n",
            "Requirement already satisfied: nvtx>=0.2.1 in /usr/local/lib/python3.10/dist-packages (from cudf-cu12==24.10.*) (0.2.10)\n",
            "Requirement already satisfied: packaging in /usr/local/lib/python3.10/dist-packages (from cudf-cu12==24.10.*) (24.1)\n",
            "Requirement already satisfied: pandas<2.2.3dev0,>=2.0 in /usr/local/lib/python3.10/dist-packages (from cudf-cu12==24.10.*) (2.2.2)\n",
            "Requirement already satisfied: pyarrow<18.0.0a0,>=14.0.0 in /usr/local/lib/python3.10/dist-packages (from cudf-cu12==24.10.*) (17.0.0)\n",
            "Requirement already satisfied: pylibcudf-cu12==24.10.* in /usr/local/lib/python3.10/dist-packages (from cudf-cu12==24.10.*) (24.10.1)\n",
            "Requirement already satisfied: pynvjitlink-cu12 in /usr/local/lib/python3.10/dist-packages (from cudf-cu12==24.10.*) (0.4.0)\n",
            "Requirement already satisfied: rich in /usr/local/lib/python3.10/dist-packages (from cudf-cu12==24.10.*) (13.9.4)\n",
            "Requirement already satisfied: rmm-cu12==24.10.* in /usr/local/lib/python3.10/dist-packages (from cudf-cu12==24.10.*) (24.10.0)\n",
            "Requirement already satisfied: typing_extensions>=4.0.0 in /usr/local/lib/python3.10/dist-packages (from cudf-cu12==24.10.*) (4.12.2)\n",
            "Requirement already satisfied: cuvs-cu12==24.10.* in /usr/local/lib/python3.10/dist-packages (from cuml-cu12==24.10.*) (24.10.0)\n",
            "Requirement already satisfied: dask-cuda==24.10.* in /usr/local/lib/python3.10/dist-packages (from cuml-cu12==24.10.*) (24.10.0)\n",
            "Requirement already satisfied: dask-cudf-cu12==24.10.* in /usr/local/lib/python3.10/dist-packages (from cuml-cu12==24.10.*) (24.10.1)\n",
            "Requirement already satisfied: joblib>=0.11 in /usr/local/lib/python3.10/dist-packages (from cuml-cu12==24.10.*) (1.4.2)\n",
            "Requirement already satisfied: nvidia-cublas-cu12 in /usr/local/lib/python3.10/dist-packages (from cuml-cu12==24.10.*) (12.6.3.3)\n",
            "Requirement already satisfied: nvidia-cufft-cu12 in /usr/local/lib/python3.10/dist-packages (from cuml-cu12==24.10.*) (11.3.0.4)\n",
            "Requirement already satisfied: nvidia-curand-cu12 in /usr/local/lib/python3.10/dist-packages (from cuml-cu12==24.10.*) (10.3.7.77)\n",
            "Requirement already satisfied: nvidia-cusolver-cu12 in /usr/local/lib/python3.10/dist-packages (from cuml-cu12==24.10.*) (11.7.1.2)\n",
            "Requirement already satisfied: nvidia-cusparse-cu12 in /usr/local/lib/python3.10/dist-packages (from cuml-cu12==24.10.*) (12.5.4.2)\n",
            "Requirement already satisfied: rapids-dask-dependency==24.10.* in /usr/local/lib/python3.10/dist-packages (from cuml-cu12==24.10.*) (24.10.0)\n",
            "Requirement already satisfied: scipy>=1.8.0 in /usr/local/lib/python3.10/dist-packages (from cuml-cu12==24.10.*) (1.13.1)\n",
            "Requirement already satisfied: treelite==4.3.0 in /usr/local/lib/python3.10/dist-packages (from cuml-cu12==24.10.*) (4.3.0)\n",
            "Requirement already satisfied: pylibcugraph-cu12==24.10.* in /usr/local/lib/python3.10/dist-packages (from cugraph-cu12==24.10.*) (24.10.0)\n",
            "Requirement already satisfied: ucx-py-cu12==0.40.* in /usr/local/lib/python3.10/dist-packages (from cugraph-cu12==24.10.*) (0.40.0)\n",
            "Requirement already satisfied: geopandas>=1.0.0 in /usr/local/lib/python3.10/dist-packages (from cuspatial-cu12==24.10.*) (1.0.1)\n",
            "Requirement already satisfied: libcuspatial-cu12==24.10.* in /usr/local/lib/python3.10/dist-packages (from cuspatial-cu12==24.10.*) (24.10.0)\n",
            "Requirement already satisfied: bokeh>=3.1 in /usr/local/lib/python3.10/dist-packages (from cuxfilter-cu12==24.10.*) (3.4.3)\n",
            "Requirement already satisfied: datashader>=0.15 in /usr/local/lib/python3.10/dist-packages (from cuxfilter-cu12==24.10.*) (0.16.3)\n",
            "Requirement already satisfied: holoviews>=1.16.0 in /usr/local/lib/python3.10/dist-packages (from cuxfilter-cu12==24.10.*) (1.19.1)\n",
            "Requirement already satisfied: jupyter-server-proxy in /usr/local/lib/python3.10/dist-packages (from cuxfilter-cu12==24.10.*) (4.4.0)\n",
            "Requirement already satisfied: panel>=1.0 in /usr/local/lib/python3.10/dist-packages (from cuxfilter-cu12==24.10.*) (1.4.5)\n",
            "Requirement already satisfied: click in /usr/local/lib/python3.10/dist-packages (from cucim-cu12==24.10.*) (8.1.7)\n",
            "Requirement already satisfied: lazy-loader>=0.1 in /usr/local/lib/python3.10/dist-packages (from cucim-cu12==24.10.*) (0.4)\n",
            "Requirement already satisfied: scikit-image<0.25.0a0,>=0.19.0 in /usr/local/lib/python3.10/dist-packages (from cucim-cu12==24.10.*) (0.24.0)\n",
            "Requirement already satisfied: distributed-ucxx-cu12==0.40.* in /usr/local/lib/python3.10/dist-packages (from raft-dask-cu12==24.10.*) (0.40.0)\n",
            "Requirement already satisfied: networkx>=3.0 in /usr/local/lib/python3.10/dist-packages (from nx-cugraph-cu12==24.10.*) (3.4.2)\n",
            "Requirement already satisfied: pynvml<11.5,>=11.0.0 in /usr/local/lib/python3.10/dist-packages (from dask-cuda==24.10.*->cuml-cu12==24.10.*) (11.4.1)\n",
            "Requirement already satisfied: zict>=2.0.0 in /usr/local/lib/python3.10/dist-packages (from dask-cuda==24.10.*->cuml-cu12==24.10.*) (3.0.0)\n",
            "Requirement already satisfied: ucxx-cu12==0.40.* in /usr/local/lib/python3.10/dist-packages (from distributed-ucxx-cu12==0.40.*->raft-dask-cu12==24.10.*) (0.40.0)\n",
            "Requirement already satisfied: dask==2024.9.0 in /usr/local/lib/python3.10/dist-packages (from rapids-dask-dependency==24.10.*->cuml-cu12==24.10.*) (2024.9.0)\n",
            "Requirement already satisfied: distributed==2024.9.0 in /usr/local/lib/python3.10/dist-packages (from rapids-dask-dependency==24.10.*->cuml-cu12==24.10.*) (2024.9.0)\n",
            "Requirement already satisfied: dask-expr==1.1.14 in /usr/local/lib/python3.10/dist-packages (from rapids-dask-dependency==24.10.*->cuml-cu12==24.10.*) (1.1.14)\n",
            "Requirement already satisfied: libucx-cu12<1.18,>=1.15.0 in /usr/local/lib/python3.10/dist-packages (from ucx-py-cu12==0.40.*->cugraph-cu12==24.10.*) (1.17.0)\n",
            "Requirement already satisfied: cloudpickle>=3.0.0 in /usr/local/lib/python3.10/dist-packages (from dask==2024.9.0->rapids-dask-dependency==24.10.*->cuml-cu12==24.10.*) (3.1.0)\n",
            "Requirement already satisfied: partd>=1.4.0 in /usr/local/lib/python3.10/dist-packages (from dask==2024.9.0->rapids-dask-dependency==24.10.*->cuml-cu12==24.10.*) (1.4.2)\n",
            "Requirement already satisfied: pyyaml>=5.3.1 in /usr/local/lib/python3.10/dist-packages (from dask==2024.9.0->rapids-dask-dependency==24.10.*->cuml-cu12==24.10.*) (6.0.2)\n",
            "Requirement already satisfied: toolz>=0.10.0 in /usr/local/lib/python3.10/dist-packages (from dask==2024.9.0->rapids-dask-dependency==24.10.*->cuml-cu12==24.10.*) (0.12.1)\n",
            "Requirement already satisfied: importlib-metadata>=4.13.0 in /usr/local/lib/python3.10/dist-packages (from dask==2024.9.0->rapids-dask-dependency==24.10.*->cuml-cu12==24.10.*) (8.5.0)\n",
            "Requirement already satisfied: jinja2>=2.10.3 in /usr/local/lib/python3.10/dist-packages (from distributed==2024.9.0->rapids-dask-dependency==24.10.*->cuml-cu12==24.10.*) (3.1.4)\n",
            "Requirement already satisfied: locket>=1.0.0 in /usr/local/lib/python3.10/dist-packages (from distributed==2024.9.0->rapids-dask-dependency==24.10.*->cuml-cu12==24.10.*) (1.0.0)\n",
            "Requirement already satisfied: msgpack>=1.0.2 in /usr/local/lib/python3.10/dist-packages (from distributed==2024.9.0->rapids-dask-dependency==24.10.*->cuml-cu12==24.10.*) (1.1.0)\n",
            "Requirement already satisfied: psutil>=5.8.0 in /usr/local/lib/python3.10/dist-packages (from distributed==2024.9.0->rapids-dask-dependency==24.10.*->cuml-cu12==24.10.*) (5.9.5)\n",
            "Requirement already satisfied: sortedcontainers>=2.0.5 in /usr/local/lib/python3.10/dist-packages (from distributed==2024.9.0->rapids-dask-dependency==24.10.*->cuml-cu12==24.10.*) (2.4.0)\n",
            "Requirement already satisfied: tblib>=1.6.0 in /usr/local/lib/python3.10/dist-packages (from distributed==2024.9.0->rapids-dask-dependency==24.10.*->cuml-cu12==24.10.*) (3.0.0)\n",
            "Requirement already satisfied: tornado>=6.2.0 in /usr/local/lib/python3.10/dist-packages (from distributed==2024.9.0->rapids-dask-dependency==24.10.*->cuml-cu12==24.10.*) (6.3.3)\n",
            "Requirement already satisfied: urllib3>=1.26.5 in /usr/local/lib/python3.10/dist-packages (from distributed==2024.9.0->rapids-dask-dependency==24.10.*->cuml-cu12==24.10.*) (2.2.3)\n",
            "Requirement already satisfied: libucxx-cu12==0.40.* in /usr/local/lib/python3.10/dist-packages (from ucxx-cu12==0.40.*->distributed-ucxx-cu12==0.40.*->raft-dask-cu12==24.10.*) (0.40.0)\n",
            "Requirement already satisfied: aiohappyeyeballs>=2.3.0 in /usr/local/lib/python3.10/dist-packages (from aiohttp) (2.4.3)\n",
            "Requirement already satisfied: aiosignal>=1.1.2 in /usr/local/lib/python3.10/dist-packages (from aiohttp) (1.3.1)\n",
            "Requirement already satisfied: attrs>=17.3.0 in /usr/local/lib/python3.10/dist-packages (from aiohttp) (24.2.0)\n",
            "Requirement already satisfied: frozenlist>=1.1.1 in /usr/local/lib/python3.10/dist-packages (from aiohttp) (1.5.0)\n",
            "Requirement already satisfied: multidict<7.0,>=4.5 in /usr/local/lib/python3.10/dist-packages (from aiohttp) (6.1.0)\n",
            "Requirement already satisfied: yarl<2.0,>=1.12.0 in /usr/local/lib/python3.10/dist-packages (from aiohttp) (1.17.1)\n",
            "Requirement already satisfied: async-timeout<5.0,>=4.0 in /usr/local/lib/python3.10/dist-packages (from aiohttp) (4.0.3)\n",
            "Requirement already satisfied: contourpy>=1.2 in /usr/local/lib/python3.10/dist-packages (from bokeh>=3.1->cuxfilter-cu12==24.10.*) (1.3.0)\n",
            "Requirement already satisfied: pillow>=7.1.0 in /usr/local/lib/python3.10/dist-packages (from bokeh>=3.1->cuxfilter-cu12==24.10.*) (10.4.0)\n",
            "Requirement already satisfied: xyzservices>=2021.09.1 in /usr/local/lib/python3.10/dist-packages (from bokeh>=3.1->cuxfilter-cu12==24.10.*) (2024.9.0)\n",
            "Requirement already satisfied: cython in /usr/local/lib/python3.10/dist-packages (from cuda-python<13.0a0,>=12.0->cudf-cu12==24.10.*) (3.0.11)\n",
            "Requirement already satisfied: fastrlock>=0.5 in /usr/local/lib/python3.10/dist-packages (from cupy-cuda12x>=12.0.0->cudf-cu12==24.10.*) (0.8.2)\n",
            "Requirement already satisfied: colorcet in /usr/local/lib/python3.10/dist-packages (from datashader>=0.15->cuxfilter-cu12==24.10.*) (3.1.0)\n",
            "Requirement already satisfied: multipledispatch in /usr/local/lib/python3.10/dist-packages (from datashader>=0.15->cuxfilter-cu12==24.10.*) (1.0.0)\n",
            "Requirement already satisfied: param in /usr/local/lib/python3.10/dist-packages (from datashader>=0.15->cuxfilter-cu12==24.10.*) (2.1.1)\n",
            "Requirement already satisfied: pyct in /usr/local/lib/python3.10/dist-packages (from datashader>=0.15->cuxfilter-cu12==24.10.*) (0.5.0)\n",
            "Requirement already satisfied: requests in /usr/local/lib/python3.10/dist-packages (from datashader>=0.15->cuxfilter-cu12==24.10.*) (2.32.3)\n",
            "Requirement already satisfied: xarray in /usr/local/lib/python3.10/dist-packages (from datashader>=0.15->cuxfilter-cu12==24.10.*) (2024.10.0)\n",
            "Requirement already satisfied: pyogrio>=0.7.2 in /usr/local/lib/python3.10/dist-packages (from geopandas>=1.0.0->cuspatial-cu12==24.10.*) (0.10.0)\n",
            "Requirement already satisfied: pyproj>=3.3.0 in /usr/local/lib/python3.10/dist-packages (from geopandas>=1.0.0->cuspatial-cu12==24.10.*) (3.7.0)\n",
            "Requirement already satisfied: shapely>=2.0.0 in /usr/local/lib/python3.10/dist-packages (from geopandas>=1.0.0->cuspatial-cu12==24.10.*) (2.0.6)\n",
            "Requirement already satisfied: pyviz-comms>=2.1 in /usr/local/lib/python3.10/dist-packages (from holoviews>=1.16.0->cuxfilter-cu12==24.10.*) (3.0.3)\n",
            "Requirement already satisfied: llvmlite<0.44,>=0.43.0dev0 in /usr/local/lib/python3.10/dist-packages (from numba>=0.57->cudf-cu12==24.10.*) (0.43.0)\n",
            "Requirement already satisfied: python-dateutil>=2.8.2 in /usr/local/lib/python3.10/dist-packages (from pandas<2.2.3dev0,>=2.0->cudf-cu12==24.10.*) (2.8.2)\n",
            "Requirement already satisfied: pytz>=2020.1 in /usr/local/lib/python3.10/dist-packages (from pandas<2.2.3dev0,>=2.0->cudf-cu12==24.10.*) (2024.2)\n",
            "Requirement already satisfied: tzdata>=2022.7 in /usr/local/lib/python3.10/dist-packages (from pandas<2.2.3dev0,>=2.0->cudf-cu12==24.10.*) (2024.2)\n",
            "Requirement already satisfied: markdown in /usr/local/lib/python3.10/dist-packages (from panel>=1.0->cuxfilter-cu12==24.10.*) (3.7)\n",
            "Requirement already satisfied: markdown-it-py in /usr/local/lib/python3.10/dist-packages (from panel>=1.0->cuxfilter-cu12==24.10.*) (3.0.0)\n",
            "Requirement already satisfied: linkify-it-py in /usr/local/lib/python3.10/dist-packages (from panel>=1.0->cuxfilter-cu12==24.10.*) (2.0.3)\n",
            "Requirement already satisfied: mdit-py-plugins in /usr/local/lib/python3.10/dist-packages (from panel>=1.0->cuxfilter-cu12==24.10.*) (0.4.2)\n",
            "Requirement already satisfied: tqdm>=4.48.0 in /usr/local/lib/python3.10/dist-packages (from panel>=1.0->cuxfilter-cu12==24.10.*) (4.66.6)\n",
            "Requirement already satisfied: bleach in /usr/local/lib/python3.10/dist-packages (from panel>=1.0->cuxfilter-cu12==24.10.*) (6.2.0)\n",
            "Requirement already satisfied: imageio>=2.33 in /usr/local/lib/python3.10/dist-packages (from scikit-image<0.25.0a0,>=0.19.0->cucim-cu12==24.10.*) (2.36.0)\n",
            "Requirement already satisfied: tifffile>=2022.8.12 in /usr/local/lib/python3.10/dist-packages (from scikit-image<0.25.0a0,>=0.19.0->cucim-cu12==24.10.*) (2024.9.20)\n",
            "Requirement already satisfied: idna>=2.0 in /usr/local/lib/python3.10/dist-packages (from yarl<2.0,>=1.12.0->aiohttp) (3.10)\n",
            "Requirement already satisfied: propcache>=0.2.0 in /usr/local/lib/python3.10/dist-packages (from yarl<2.0,>=1.12.0->aiohttp) (0.2.0)\n",
            "Requirement already satisfied: jupyter-server>=1.24.0 in /usr/local/lib/python3.10/dist-packages (from jupyter-server-proxy->cuxfilter-cu12==24.10.*) (1.24.0)\n",
            "Requirement already satisfied: simpervisor>=1.0.0 in /usr/local/lib/python3.10/dist-packages (from jupyter-server-proxy->cuxfilter-cu12==24.10.*) (1.0.0)\n",
            "Requirement already satisfied: traitlets>=5.1.0 in /usr/local/lib/python3.10/dist-packages (from jupyter-server-proxy->cuxfilter-cu12==24.10.*) (5.7.1)\n",
            "Requirement already satisfied: nvidia-nvjitlink-cu12 in /usr/local/lib/python3.10/dist-packages (from nvidia-cufft-cu12->cuml-cu12==24.10.*) (12.6.77)\n",
            "Requirement already satisfied: pygments<3.0.0,>=2.13.0 in /usr/local/lib/python3.10/dist-packages (from rich->cudf-cu12==24.10.*) (2.18.0)\n",
            "Requirement already satisfied: MarkupSafe>=2.0 in /usr/local/lib/python3.10/dist-packages (from jinja2>=2.10.3->distributed==2024.9.0->rapids-dask-dependency==24.10.*->cuml-cu12==24.10.*) (3.0.2)\n",
            "Requirement already satisfied: anyio<4,>=3.1.0 in /usr/local/lib/python3.10/dist-packages (from jupyter-server>=1.24.0->jupyter-server-proxy->cuxfilter-cu12==24.10.*) (3.7.1)\n",
            "Requirement already satisfied: argon2-cffi in /usr/local/lib/python3.10/dist-packages (from jupyter-server>=1.24.0->jupyter-server-proxy->cuxfilter-cu12==24.10.*) (23.1.0)\n",
            "Requirement already satisfied: jupyter-client>=6.1.12 in /usr/local/lib/python3.10/dist-packages (from jupyter-server>=1.24.0->jupyter-server-proxy->cuxfilter-cu12==24.10.*) (6.1.12)\n",
            "Requirement already satisfied: jupyter-core!=5.0.*,>=4.12 in /usr/local/lib/python3.10/dist-packages (from jupyter-server>=1.24.0->jupyter-server-proxy->cuxfilter-cu12==24.10.*) (5.7.2)\n",
            "Requirement already satisfied: nbconvert>=6.4.4 in /usr/local/lib/python3.10/dist-packages (from jupyter-server>=1.24.0->jupyter-server-proxy->cuxfilter-cu12==24.10.*) (7.16.4)\n",
            "Requirement already satisfied: nbformat>=5.2.0 in /usr/local/lib/python3.10/dist-packages (from jupyter-server>=1.24.0->jupyter-server-proxy->cuxfilter-cu12==24.10.*) (5.10.4)\n",
            "Requirement already satisfied: prometheus-client in /usr/local/lib/python3.10/dist-packages (from jupyter-server>=1.24.0->jupyter-server-proxy->cuxfilter-cu12==24.10.*) (0.21.0)\n",
            "Requirement already satisfied: pyzmq>=17 in /usr/local/lib/python3.10/dist-packages (from jupyter-server>=1.24.0->jupyter-server-proxy->cuxfilter-cu12==24.10.*) (24.0.1)\n",
            "Requirement already satisfied: Send2Trash in /usr/local/lib/python3.10/dist-packages (from jupyter-server>=1.24.0->jupyter-server-proxy->cuxfilter-cu12==24.10.*) (1.8.3)\n",
            "Requirement already satisfied: terminado>=0.8.3 in /usr/local/lib/python3.10/dist-packages (from jupyter-server>=1.24.0->jupyter-server-proxy->cuxfilter-cu12==24.10.*) (0.18.1)\n",
            "Requirement already satisfied: websocket-client in /usr/local/lib/python3.10/dist-packages (from jupyter-server>=1.24.0->jupyter-server-proxy->cuxfilter-cu12==24.10.*) (1.8.0)\n",
            "Requirement already satisfied: mdurl~=0.1 in /usr/local/lib/python3.10/dist-packages (from markdown-it-py->panel>=1.0->cuxfilter-cu12==24.10.*) (0.1.2)\n",
            "Requirement already satisfied: certifi in /usr/local/lib/python3.10/dist-packages (from pyogrio>=0.7.2->geopandas>=1.0.0->cuspatial-cu12==24.10.*) (2024.8.30)\n",
            "Requirement already satisfied: six>=1.5 in /usr/local/lib/python3.10/dist-packages (from python-dateutil>=2.8.2->pandas<2.2.3dev0,>=2.0->cudf-cu12==24.10.*) (1.16.0)\n",
            "Requirement already satisfied: webencodings in /usr/local/lib/python3.10/dist-packages (from bleach->panel>=1.0->cuxfilter-cu12==24.10.*) (0.5.1)\n",
            "Requirement already satisfied: uc-micro-py in /usr/local/lib/python3.10/dist-packages (from linkify-it-py->panel>=1.0->cuxfilter-cu12==24.10.*) (1.0.3)\n",
            "Requirement already satisfied: charset-normalizer<4,>=2 in /usr/local/lib/python3.10/dist-packages (from requests->datashader>=0.15->cuxfilter-cu12==24.10.*) (3.4.0)\n",
            "Requirement already satisfied: sniffio>=1.1 in /usr/local/lib/python3.10/dist-packages (from anyio<4,>=3.1.0->jupyter-server>=1.24.0->jupyter-server-proxy->cuxfilter-cu12==24.10.*) (1.3.1)\n",
            "Requirement already satisfied: exceptiongroup in /usr/local/lib/python3.10/dist-packages (from anyio<4,>=3.1.0->jupyter-server>=1.24.0->jupyter-server-proxy->cuxfilter-cu12==24.10.*) (1.2.2)\n",
            "Requirement already satisfied: zipp>=3.20 in /usr/local/lib/python3.10/dist-packages (from importlib-metadata>=4.13.0->dask==2024.9.0->rapids-dask-dependency==24.10.*->cuml-cu12==24.10.*) (3.20.2)\n",
            "Requirement already satisfied: platformdirs>=2.5 in /usr/local/lib/python3.10/dist-packages (from jupyter-core!=5.0.*,>=4.12->jupyter-server>=1.24.0->jupyter-server-proxy->cuxfilter-cu12==24.10.*) (4.3.6)\n",
            "Requirement already satisfied: beautifulsoup4 in /usr/local/lib/python3.10/dist-packages (from nbconvert>=6.4.4->jupyter-server>=1.24.0->jupyter-server-proxy->cuxfilter-cu12==24.10.*) (4.12.3)\n",
            "Requirement already satisfied: defusedxml in /usr/local/lib/python3.10/dist-packages (from nbconvert>=6.4.4->jupyter-server>=1.24.0->jupyter-server-proxy->cuxfilter-cu12==24.10.*) (0.7.1)\n",
            "Requirement already satisfied: jupyterlab-pygments in /usr/local/lib/python3.10/dist-packages (from nbconvert>=6.4.4->jupyter-server>=1.24.0->jupyter-server-proxy->cuxfilter-cu12==24.10.*) (0.3.0)\n",
            "Requirement already satisfied: mistune<4,>=2.0.3 in /usr/local/lib/python3.10/dist-packages (from nbconvert>=6.4.4->jupyter-server>=1.24.0->jupyter-server-proxy->cuxfilter-cu12==24.10.*) (3.0.2)\n",
            "Requirement already satisfied: nbclient>=0.5.0 in /usr/local/lib/python3.10/dist-packages (from nbconvert>=6.4.4->jupyter-server>=1.24.0->jupyter-server-proxy->cuxfilter-cu12==24.10.*) (0.10.0)\n",
            "Requirement already satisfied: pandocfilters>=1.4.1 in /usr/local/lib/python3.10/dist-packages (from nbconvert>=6.4.4->jupyter-server>=1.24.0->jupyter-server-proxy->cuxfilter-cu12==24.10.*) (1.5.1)\n",
            "Requirement already satisfied: tinycss2 in /usr/local/lib/python3.10/dist-packages (from nbconvert>=6.4.4->jupyter-server>=1.24.0->jupyter-server-proxy->cuxfilter-cu12==24.10.*) (1.4.0)\n",
            "Requirement already satisfied: fastjsonschema>=2.15 in /usr/local/lib/python3.10/dist-packages (from nbformat>=5.2.0->jupyter-server>=1.24.0->jupyter-server-proxy->cuxfilter-cu12==24.10.*) (2.20.0)\n",
            "Requirement already satisfied: jsonschema>=2.6 in /usr/local/lib/python3.10/dist-packages (from nbformat>=5.2.0->jupyter-server>=1.24.0->jupyter-server-proxy->cuxfilter-cu12==24.10.*) (4.23.0)\n",
            "Requirement already satisfied: ptyprocess in /usr/local/lib/python3.10/dist-packages (from terminado>=0.8.3->jupyter-server>=1.24.0->jupyter-server-proxy->cuxfilter-cu12==24.10.*) (0.7.0)\n",
            "Requirement already satisfied: argon2-cffi-bindings in /usr/local/lib/python3.10/dist-packages (from argon2-cffi->jupyter-server>=1.24.0->jupyter-server-proxy->cuxfilter-cu12==24.10.*) (21.2.0)\n",
            "Requirement already satisfied: jsonschema-specifications>=2023.03.6 in /usr/local/lib/python3.10/dist-packages (from jsonschema>=2.6->nbformat>=5.2.0->jupyter-server>=1.24.0->jupyter-server-proxy->cuxfilter-cu12==24.10.*) (2024.10.1)\n",
            "Requirement already satisfied: referencing>=0.28.4 in /usr/local/lib/python3.10/dist-packages (from jsonschema>=2.6->nbformat>=5.2.0->jupyter-server>=1.24.0->jupyter-server-proxy->cuxfilter-cu12==24.10.*) (0.35.1)\n",
            "Requirement already satisfied: rpds-py>=0.7.1 in /usr/local/lib/python3.10/dist-packages (from jsonschema>=2.6->nbformat>=5.2.0->jupyter-server>=1.24.0->jupyter-server-proxy->cuxfilter-cu12==24.10.*) (0.20.1)\n",
            "Requirement already satisfied: cffi>=1.0.1 in /usr/local/lib/python3.10/dist-packages (from argon2-cffi-bindings->argon2-cffi->jupyter-server>=1.24.0->jupyter-server-proxy->cuxfilter-cu12==24.10.*) (1.17.1)\n",
            "Requirement already satisfied: soupsieve>1.2 in /usr/local/lib/python3.10/dist-packages (from beautifulsoup4->nbconvert>=6.4.4->jupyter-server>=1.24.0->jupyter-server-proxy->cuxfilter-cu12==24.10.*) (2.6)\n",
            "Requirement already satisfied: pycparser in /usr/local/lib/python3.10/dist-packages (from cffi>=1.0.1->argon2-cffi-bindings->argon2-cffi->jupyter-server>=1.24.0->jupyter-server-proxy->cuxfilter-cu12==24.10.*) (2.22)\n",
            "\n",
            "        ***********************************************************************\n",
            "        The pip install of RAPIDS is complete.\n",
            "        \n",
            "        Please do not run any further installation from the conda based installation methods, as they may cause issues!\n",
            "        \n",
            "        Please ensure that you're pulling from the git repo to remain updated with the latest working install scripts.\n",
            "\n",
            "        Troubleshooting:\n",
            "            - If there is an installation failure, please check back on RAPIDSAI owned templates/notebooks to see how to update your personal files. \n",
            "            - If an installation failure persists when using the latest script, please make an issue on https://github.com/rapidsai-community/rapidsai-csp-utils\n",
            "        ***********************************************************************\n",
            "        \n"
          ]
        }
      ],
      "source": [
        "!git clone https://github.com/rapidsai/rapidsai-csp-utils.git\n",
        "!python rapidsai-csp-utils/colab/pip-install.py"
      ]
    },
    {
      "cell_type": "code",
      "execution_count": 2,
      "metadata": {
        "_cell_guid": "b1076dfc-b9ad-4769-8c92-a6c4dae69d19",
        "_uuid": "8f2839f25d086af736a60e9eeb907d3b93b6e0e5",
        "id": "WkP5jZSIZCE7"
      },
      "outputs": [],
      "source": [
        "import shutil\n",
        "import torch\n",
        "import torch.nn as nn\n",
        "from torch.utils.data import DataLoader, TensorDataset"
      ]
    },
    {
      "cell_type": "markdown",
      "metadata": {
        "id": "861X-2gEEnY3"
      },
      "source": [
        "<font color=\"red\">**- - - - MOHON DIPERHATIKAN - - - -**</font>\n",
        "<br>**Aktifkan GPU sekarang.** Di Google Colab, klik **Runtime > Change Runtime Type**, lalu pilih **T4 GPU**."
      ]
    },
    {
      "cell_type": "markdown",
      "metadata": {
        "id": "HSvMfJL1ZCE_"
      },
      "source": [
        "### Dataset Loading (CPU vs. GPU)"
      ]
    },
    {
      "cell_type": "code",
      "execution_count": 3,
      "metadata": {
        "id": "5gnAKcO7kUPA"
      },
      "outputs": [],
      "source": [
        "from pandas import read_csv as read_by_CPU\n",
        "from cudf import read_csv as read_by_GPU"
      ]
    },
    {
      "cell_type": "code",
      "execution_count": 4,
      "metadata": {
        "id": "Ojn_qv6ucAcO"
      },
      "outputs": [],
      "source": [
        "# unzip the file\n",
        "shutil.unpack_archive('dataset_case_04.zip', '/content/sample_data', 'zip')"
      ]
    },
    {
      "cell_type": "code",
      "execution_count": 5,
      "metadata": {
        "id": "DOQKgmXYZCFB",
        "colab": {
          "base_uri": "https://localhost:8080/"
        },
        "outputId": "cb1a7688-4d99-474b-aa9b-de2c03f61a8e"
      },
      "outputs": [
        {
          "output_type": "stream",
          "name": "stdout",
          "text": [
            "CPU times: user 5.91 s, sys: 410 ms, total: 6.32 s\n",
            "Wall time: 10.1 s\n"
          ]
        }
      ],
      "source": [
        "# TODO: Impor dataset dengan Pandas, gunakan fungsi \"read_by_CPU\"\n",
        "%time data_cpu = read_by_CPU('/content/sample_data/creditcard_2023.csv')"
      ]
    },
    {
      "cell_type": "code",
      "execution_count": 6,
      "metadata": {
        "id": "P8kOLF4ncWe_",
        "colab": {
          "base_uri": "https://localhost:8080/"
        },
        "outputId": "3519f5bb-9dd5-4e2c-9346-4934b1794b25"
      },
      "outputs": [
        {
          "output_type": "stream",
          "name": "stdout",
          "text": [
            "CPU times: user 284 ms, sys: 385 ms, total: 669 ms\n",
            "Wall time: 1.25 s\n",
            "            id        V1        V2        V3        V4        V5        V6  \\\n",
            "0            0 -0.260648 -0.469648  2.496266 -0.083724  0.129681  0.732898   \n",
            "1            1  0.985100 -0.356045  0.558056 -0.429654  0.277140  0.428605   \n",
            "2            2 -0.260272 -0.949385  1.728538 -0.457986  0.074062  1.419481   \n",
            "3            3 -0.152152 -0.508959  1.746840 -1.090178  0.249486  1.143312   \n",
            "4            4 -0.206820 -0.165280  1.527053 -0.448293  0.106125  0.530549   \n",
            "...        ...       ...       ...       ...       ...       ...       ...   \n",
            "568625  568625 -0.833437  0.061886 -0.899794  0.904227 -1.002401  0.481454   \n",
            "568626  568626 -0.670459 -0.202896 -0.068129 -0.267328 -0.133660  0.237148   \n",
            "568627  568627 -0.311997 -0.004095  0.137526 -0.035893 -0.042291  0.121098   \n",
            "568628  568628  0.636871 -0.516970 -0.300889 -0.144480  0.131042 -0.294148   \n",
            "568629  568629 -0.795144  0.433236 -0.649140  0.374732 -0.244976 -0.603493   \n",
            "\n",
            "              V7        V8        V9  ...       V21       V22       V23  \\\n",
            "0       0.519014 -0.130006  0.727159  ... -0.110552  0.217606 -0.134794   \n",
            "1       0.406466 -0.133118  0.347452  ... -0.194936 -0.605761  0.079469   \n",
            "2       0.743511 -0.095576 -0.261297  ... -0.005020  0.702906  0.945045   \n",
            "3       0.518269 -0.065130 -0.205698  ... -0.146927 -0.038212 -0.214048   \n",
            "4       0.658849 -0.212660  1.049921  ... -0.106984  0.729727 -0.161666   \n",
            "...          ...       ...       ...  ...       ...       ...       ...   \n",
            "568625 -0.370393  0.189694 -0.938153  ...  0.167503  0.419731  1.288249   \n",
            "568626 -0.016935 -0.147733  0.483894  ...  0.031874  0.388161 -0.154257   \n",
            "568627 -0.070958 -0.019997 -0.122048  ...  0.140788  0.536523 -0.211100   \n",
            "568628  0.580568 -0.207723  0.893527  ... -0.060381 -0.195609 -0.175488   \n",
            "568629 -0.347613 -0.340814  0.253971  ...  0.534853 -0.291514  0.157303   \n",
            "\n",
            "             V24       V25       V26       V27       V28    Amount  Class  \n",
            "0       0.165959  0.126280 -0.434824 -0.081230 -0.151045  17982.10      0  \n",
            "1      -0.577395  0.190090  0.296503 -0.248052 -0.064512   6531.37      0  \n",
            "2      -1.154666 -0.605564 -0.312895 -0.300258 -0.244718   2513.54      0  \n",
            "3      -1.893131  1.003963 -0.515950 -0.165316  0.048424   5384.44      0  \n",
            "4       0.312561 -0.414116  1.071126  0.023712  0.419117  14278.97      0  \n",
            "...          ...       ...       ...       ...       ...       ...    ...  \n",
            "568625 -0.900861  0.560661 -0.006018  3.308968  0.081564   4394.16      1  \n",
            "568626 -0.846452 -0.153443  1.961398 -1.528642  1.704306   4653.40      1  \n",
            "568627 -0.448909  0.540073 -0.755836 -0.487540 -0.268741  23572.85      1  \n",
            "568628 -0.554643 -0.099669 -1.434931 -0.159269 -0.076251  10160.83      1  \n",
            "568629  0.931030 -0.349423 -1.090974 -1.575113  0.722936  21493.92      1  \n",
            "\n",
            "[568630 rows x 31 columns]\n"
          ]
        }
      ],
      "source": [
        "# Impor dataset dengan cuDF (Pandas di GPU)\n",
        "%time data_gpu = read_by_GPU('/content/sample_data/creditcard_2023.csv')\n",
        "print(data_gpu)"
      ]
    },
    {
      "cell_type": "code",
      "execution_count": 7,
      "metadata": {
        "id": "paQFb9zLZCFC",
        "colab": {
          "base_uri": "https://localhost:8080/"
        },
        "outputId": "ed94c467-c774-4789-cdc7-e5ad3f365af1"
      },
      "outputs": [
        {
          "output_type": "stream",
          "name": "stdout",
          "text": [
            "              V1        V2        V3        V4        V5        V6        V7  \\\n",
            "0      -0.260648 -0.469648  2.496266 -0.083724  0.129681  0.732898  0.519014   \n",
            "1       0.985100 -0.356045  0.558056 -0.429654  0.277140  0.428605  0.406466   \n",
            "2      -0.260272 -0.949385  1.728538 -0.457986  0.074062  1.419481  0.743511   \n",
            "3      -0.152152 -0.508959  1.746840 -1.090178  0.249486  1.143312  0.518269   \n",
            "4      -0.206820 -0.165280  1.527053 -0.448293  0.106125  0.530549  0.658849   \n",
            "...          ...       ...       ...       ...       ...       ...       ...   \n",
            "568625 -0.833437  0.061886 -0.899794  0.904227 -1.002401  0.481454 -0.370393   \n",
            "568626 -0.670459 -0.202896 -0.068129 -0.267328 -0.133660  0.237148 -0.016935   \n",
            "568627 -0.311997 -0.004095  0.137526 -0.035893 -0.042291  0.121098 -0.070958   \n",
            "568628  0.636871 -0.516970 -0.300889 -0.144480  0.131042 -0.294148  0.580568   \n",
            "568629 -0.795144  0.433236 -0.649140  0.374732 -0.244976 -0.603493 -0.347613   \n",
            "\n",
            "              V8        V9       V10  ...       V21       V22       V23  \\\n",
            "0      -0.130006  0.727159  0.637735  ... -0.110552  0.217606 -0.134794   \n",
            "1      -0.133118  0.347452  0.529808  ... -0.194936 -0.605761  0.079469   \n",
            "2      -0.095576 -0.261297  0.690708  ... -0.005020  0.702906  0.945045   \n",
            "3      -0.065130 -0.205698  0.575231  ... -0.146927 -0.038212 -0.214048   \n",
            "4      -0.212660  1.049921  0.968046  ... -0.106984  0.729727 -0.161666   \n",
            "...          ...       ...       ...  ...       ...       ...       ...   \n",
            "568625  0.189694 -0.938153 -1.161847  ...  0.167503  0.419731  1.288249   \n",
            "568626 -0.147733  0.483894 -0.210817  ...  0.031874  0.388161 -0.154257   \n",
            "568627 -0.019997 -0.122048 -0.144495  ...  0.140788  0.536523 -0.211100   \n",
            "568628 -0.207723  0.893527 -0.080078  ... -0.060381 -0.195609 -0.175488   \n",
            "568629 -0.340814  0.253971 -0.513556  ...  0.534853 -0.291514  0.157303   \n",
            "\n",
            "             V24       V25       V26       V27       V28    Amount  Class  \n",
            "0       0.165959  0.126280 -0.434824 -0.081230 -0.151045  17982.10      0  \n",
            "1      -0.577395  0.190090  0.296503 -0.248052 -0.064512   6531.37      0  \n",
            "2      -1.154666 -0.605564 -0.312895 -0.300258 -0.244718   2513.54      0  \n",
            "3      -1.893131  1.003963 -0.515950 -0.165316  0.048424   5384.44      0  \n",
            "4       0.312561 -0.414116  1.071126  0.023712  0.419117  14278.97      0  \n",
            "...          ...       ...       ...       ...       ...       ...    ...  \n",
            "568625 -0.900861  0.560661 -0.006018  3.308968  0.081564   4394.16      1  \n",
            "568626 -0.846452 -0.153443  1.961398 -1.528642  1.704306   4653.40      1  \n",
            "568627 -0.448909  0.540073 -0.755836 -0.487540 -0.268741  23572.85      1  \n",
            "568628 -0.554643 -0.099669 -1.434931 -0.159269 -0.076251  10160.83      1  \n",
            "568629  0.931030 -0.349423 -1.090974 -1.575113  0.722936  21493.92      1  \n",
            "\n",
            "[568630 rows x 30 columns]\n"
          ]
        }
      ],
      "source": [
        "# TODO: Hilangkan kolom ID\n",
        "data_gpu = data_gpu.drop(columns=['id'])\n",
        "print(data_gpu)"
      ]
    },
    {
      "cell_type": "markdown",
      "metadata": {
        "id": "J2FBAhocj1IR"
      },
      "source": [
        "### Standardization (CPU vs. GPU)"
      ]
    },
    {
      "cell_type": "code",
      "execution_count": 8,
      "metadata": {
        "id": "4cBn8jNskGDS"
      },
      "outputs": [],
      "source": [
        "from sklearn.preprocessing import StandardScaler as StandardScalerCPU\n",
        "from cuml.preprocessing import StandardScaler as StandardScalerGPU"
      ]
    },
    {
      "cell_type": "code",
      "execution_count": 9,
      "metadata": {
        "id": "UcpTE3osjZKc"
      },
      "outputs": [],
      "source": [
        "ScalerCPU = StandardScalerCPU()\n",
        "ScalerGPU = StandardScalerGPU()\n",
        "\n",
        "arbitrary_features = [\"V\"+str(i+1) for i in range(27)]"
      ]
    },
    {
      "cell_type": "code",
      "execution_count": 10,
      "metadata": {
        "id": "1qkT_zVUZCFF",
        "colab": {
          "base_uri": "https://localhost:8080/"
        },
        "outputId": "18132f8a-aecd-46f7-8474-e312720b36e0"
      },
      "outputs": [
        {
          "output_type": "stream",
          "name": "stdout",
          "text": [
            "CPU times: user 256 ms, sys: 595 ms, total: 851 ms\n",
            "Wall time: 882 ms\n"
          ]
        }
      ],
      "source": [
        "%%time\n",
        "\n",
        "data_cpu[arbitrary_features] = ScalerCPU.fit_transform(data_cpu[arbitrary_features].values)\n",
        "data_cpu[\"Amount\"] = ScalerCPU.fit_transform(data_cpu[\"Amount\"].values.reshape(-1, 1)).squeeze()"
      ]
    },
    {
      "cell_type": "code",
      "execution_count": 11,
      "metadata": {
        "id": "DcD5PCr7ePCZ",
        "colab": {
          "base_uri": "https://localhost:8080/"
        },
        "outputId": "0912f686-c798-4ce3-d772-f81741c6e2db"
      },
      "outputs": [
        {
          "output_type": "stream",
          "name": "stdout",
          "text": [
            "CPU times: user 15.8 s, sys: 854 ms, total: 16.7 s\n",
            "Wall time: 16.7 s\n"
          ]
        }
      ],
      "source": [
        "%%time\n",
        "\n",
        "data_gpu[arbitrary_features] = ScalerGPU.fit_transform(data_gpu[arbitrary_features].values)\n",
        "data_gpu[\"Amount\"] = ScalerGPU.fit_transform(data_gpu[\"Amount\"].values.reshape(-1, 1)).squeeze()"
      ]
    },
    {
      "cell_type": "markdown",
      "metadata": {
        "id": "wp7MqaUrZCFJ"
      },
      "source": [
        "### Train/Test Split (CPU vs. GPU)"
      ]
    },
    {
      "cell_type": "code",
      "execution_count": 12,
      "metadata": {
        "id": "zXlDibQ_jps4"
      },
      "outputs": [],
      "source": [
        "from sklearn.model_selection import train_test_split as splitCPU\n",
        "from cuml.preprocessing import train_test_split as splitGPU"
      ]
    },
    {
      "cell_type": "code",
      "execution_count": 13,
      "metadata": {
        "id": "K0kl7RQQZCFH",
        "colab": {
          "base_uri": "https://localhost:8080/"
        },
        "outputId": "6e6a0381-b70b-4f31-dc2d-da5bd71a30be"
      },
      "outputs": [
        {
          "output_type": "stream",
          "name": "stdout",
          "text": [
            "X shape:  (568630, 29)\n",
            "Y shape:  (568630,)\n"
          ]
        }
      ],
      "source": [
        "# TODO: Tentukan X (features) dan Y (target), gunakan \"data_gpu\"\n",
        "\n",
        "X = data_gpu.iloc[:, :-1]\n",
        "Y = data_gpu.iloc[:, -1]\n",
        "\n",
        "print(\"X shape: \", X.shape)\n",
        "print(\"Y shape: \", Y.shape)"
      ]
    },
    {
      "cell_type": "code",
      "execution_count": 14,
      "metadata": {
        "id": "Re8mIqeKZCFK",
        "colab": {
          "base_uri": "https://localhost:8080/"
        },
        "outputId": "a9f4b274-7263-4b11-c77f-3faed98b7216"
      },
      "outputs": [
        {
          "output_type": "stream",
          "name": "stdout",
          "text": [
            "x_train shape:  (454904, 29)\n",
            "x_test shape:  (113726, 29)\n",
            "CPU times: user 49.8 ms, sys: 10.9 ms, total: 60.7 ms\n",
            "Wall time: 109 ms\n"
          ]
        }
      ],
      "source": [
        "%%time\n",
        "\n",
        "# TODO: Pecah dataset dengan komposisi 80% train set dan 20% test set, dengan fungsi \"splitCPU\"\n",
        "test_size = 0.2\n",
        "random_state = 0\n",
        "x_train, x_test, y_train, y_test = splitCPU(X, Y, test_size=test_size, random_state=random_state)\n",
        "\n",
        "print(\"x_train shape: \", x_train.shape)\n",
        "print(\"x_test shape: \", x_test.shape)"
      ]
    },
    {
      "cell_type": "code",
      "execution_count": 15,
      "metadata": {
        "id": "kJF3WiFXiPeX",
        "colab": {
          "base_uri": "https://localhost:8080/"
        },
        "outputId": "85ab423d-2dd0-4d1a-9115-784fd5930837"
      },
      "outputs": [
        {
          "output_type": "stream",
          "name": "stdout",
          "text": [
            "x_train shape:  (454904, 29)\n",
            "x_test shape:  (113726, 29)\n",
            "CPU times: user 1.18 s, sys: 64.1 ms, total: 1.24 s\n",
            "Wall time: 1.33 s\n"
          ]
        }
      ],
      "source": [
        "%%time\n",
        "\n",
        "# TODO: Lakukan hal yang sama untuk data spliting, tetapi dengan fungsi \"splitGPU\"\n",
        "test_size = 0.2\n",
        "random_state = 0\n",
        "x_train, x_test, y_train, y_test = x_train, x_test, y_train, y_test = splitGPU(X, Y, test_size=test_size, random_state=random_state)\n",
        "\n",
        "print(\"x_train shape: \", x_train.shape)\n",
        "print(\"x_test shape: \", x_test.shape)"
      ]
    },
    {
      "cell_type": "markdown",
      "metadata": {
        "id": "QZcVl4wgZCFO"
      },
      "source": [
        "### Convert the dataset into Tensor"
      ]
    },
    {
      "cell_type": "code",
      "execution_count": 16,
      "metadata": {
        "id": "ciQHEDCcu074"
      },
      "outputs": [],
      "source": [
        "import cupy # Numpy for GPU"
      ]
    },
    {
      "cell_type": "code",
      "source": [
        "torch.cuda.is_available()"
      ],
      "metadata": {
        "id": "oOYYtpFmRJVQ",
        "colab": {
          "base_uri": "https://localhost:8080/"
        },
        "outputId": "24ebee20-7c42-4623-81a8-fc99f33071fd"
      },
      "execution_count": 17,
      "outputs": [
        {
          "output_type": "execute_result",
          "data": {
            "text/plain": [
              "True"
            ]
          },
          "metadata": {},
          "execution_count": 17
        }
      ]
    },
    {
      "cell_type": "code",
      "execution_count": 18,
      "metadata": {
        "id": "yYPaM_UMZCFP"
      },
      "outputs": [],
      "source": [
        "# TODO: Aktifkan GPU (CUDA) sebagai device untuk training\n",
        "device = torch.device('cuda')"
      ]
    },
    {
      "cell_type": "code",
      "source": [
        "import torch\n",
        "import cudf\n",
        "\n",
        "# Mengonversi dari cuDF DataFrame ke PyTorch tensor\n",
        "x_train_tensor = torch.tensor(x_train.to_numpy()).to(device)  # Menggunakan to_numpy() dari cuDF\n",
        "y_train_tensor = torch.tensor(y_train.to_numpy()).to(device)\n",
        "\n",
        "x_test_tensor = torch.tensor(x_test.to_numpy()).to(device)\n",
        "y_test_tensor = torch.tensor(y_test.to_numpy()).to(device)\n",
        "\n",
        "from torch.utils.data import TensorDataset\n",
        "\n",
        "Train_tensor = TensorDataset(x_train_tensor, y_train_tensor)\n",
        "Test_tensor = TensorDataset(x_test_tensor, y_test_tensor)\n",
        "\n",
        "print(\"Train tensor shape: \", Train_tensor.tensors[0].shape, Train_tensor.tensors[1].shape)\n",
        "print(\"Test tensor shape: \", Test_tensor.tensors[0].shape, Test_tensor.tensors[1].shape)"
      ],
      "metadata": {
        "id": "Zm4JmZvjWAJJ",
        "colab": {
          "base_uri": "https://localhost:8080/"
        },
        "outputId": "0afd1278-77e0-4d95-d284-4fd41510a766"
      },
      "execution_count": 19,
      "outputs": [
        {
          "output_type": "stream",
          "name": "stdout",
          "text": [
            "Train tensor shape:  torch.Size([454904, 29]) torch.Size([454904])\n",
            "Test tensor shape:  torch.Size([113726, 29]) torch.Size([113726])\n"
          ]
        }
      ]
    },
    {
      "cell_type": "markdown",
      "metadata": {
        "id": "f9spIXPHZCFR"
      },
      "source": [
        "### Batching the Dataset with PyTorch DataLoader\n",
        "\n",
        "1.   List item\n",
        "2.   List item\n",
        "\n"
      ]
    },
    {
      "cell_type": "code",
      "execution_count": 20,
      "metadata": {
        "id": "ld5CPEnPZCFR",
        "colab": {
          "base_uri": "https://localhost:8080/"
        },
        "outputId": "cb0cdb6c-b39c-41f0-e91a-3ad8ef5e1b70"
      },
      "outputs": [
        {
          "output_type": "stream",
          "name": "stdout",
          "text": [
            "X batch shape:  torch.Size([64, 29])\n",
            "Y batch shape:  torch.Size([64])\n"
          ]
        }
      ],
      "source": [
        "# TODO: Tentukan nilai batch\n",
        "batch_size = 64\n",
        "\n",
        "Train_dataset = DataLoader(Train_tensor, batch_size=batch_size, shuffle=True)\n",
        "Test_dataset = DataLoader(Test_tensor, batch_size=batch_size, shuffle=False)\n",
        "\n",
        "# Jika ingin memeriksa beberapa batch dari DataLoader\n",
        "for batch in Train_dataset:\n",
        "    x_batch, y_batch = batch\n",
        "    print(\"X batch shape: \", x_batch.shape)  # Menampilkan bentuk batch input\n",
        "    print(\"Y batch shape: \", y_batch.shape)  # Menampilkan bentuk batch target\n",
        "    break  # Hentikan setelah satu batch untuk pemeriksaan"
      ]
    },
    {
      "cell_type": "markdown",
      "metadata": {
        "id": "zwpmEpwbZCFS"
      },
      "source": [
        "### Model Blueprint"
      ]
    },
    {
      "cell_type": "code",
      "execution_count": 21,
      "metadata": {
        "id": "tqDbyYGPZCFT"
      },
      "outputs": [],
      "source": [
        "class FeedForward(nn.Module):\n",
        "    def __init__(self, input_dim, num_neurons):\n",
        "        super(FeedForward, self).__init__()\n",
        "        self.input_dim = input_dim\n",
        "        self.num_neurons = num_neurons\n",
        "\n",
        "        self.net = nn.Sequential(\n",
        "            nn.Linear(self.input_dim, self.num_neurons),\n",
        "            nn.ReLU()\n",
        "        )\n",
        "\n",
        "    def forward(self, x):\n",
        "        return self.net(x)\n",
        "\n",
        "    def to(self, device):\n",
        "        self.net.to(device)\n",
        "        return self\n",
        "\n",
        "class Net(nn.Module):\n",
        "    def __init__(self, in_features, num_layers, num_neurons):\n",
        "        super(Net, self).__init__()\n",
        "        self.in_features = in_features\n",
        "        self.num_layers = num_layers\n",
        "        self.num_neurons = num_neurons\n",
        "\n",
        "        self.fc1 = nn.Linear(self.in_features, self.num_neurons)\n",
        "        self.relu = nn.ReLU()\n",
        "        self.blocks = [FeedForward(self.num_neurons, self.num_neurons).to(device) \\\n",
        "                       for _ in range(self.num_layers)]\n",
        "        self.output_layer = nn.Linear(self.num_neurons, 1)\n",
        "        self.sigmoid = nn.Sigmoid()\n",
        "\n",
        "    def forward(self, x):\n",
        "        output = self.relu(self.fc1(x))\n",
        "\n",
        "        for block in self.blocks:\n",
        "            output = block(output)\n",
        "        output = self.sigmoid(self.output_layer(output))\n",
        "\n",
        "        return output"
      ]
    },
    {
      "cell_type": "markdown",
      "metadata": {
        "id": "31B0wSqcZCFT"
      },
      "source": [
        "### Model Hyperparameters and Parameters"
      ]
    },
    {
      "cell_type": "code",
      "execution_count": 22,
      "metadata": {
        "id": "fr2hoJxGZCFU"
      },
      "outputs": [],
      "source": [
        "# [ PERTANYAAN ]\n",
        "# Apa perbedaan hyperparameters dan parameters?"
      ]
    },
    {
      "cell_type": "markdown",
      "source": [
        "Parameters\n",
        "Definisi: Parameters adalah nilai yang dipelajari dari data selama proses pelatihan model. Mereka menentukan bagaimana model melakukan prediksi.\n",
        "Contoh: Dalam regresi linier, koefisien (slope) dan intercept adalah parameter yang ditentukan oleh algoritma berdasarkan data pelatihan.\n",
        "Pengaturan: Dioptimalkan melalui proses pelatihan model menggunakan algoritma seperti gradient descent.\n",
        "Hyperparameters\n",
        "Definisi: Hyperparameters adalah nilai yang ditentukan sebelum proses pelatihan dimulai. Mereka mengontrol proses pelatihan dan arsitektur model, tetapi tidak dipelajari dari data.\n",
        "Contoh: Contoh hyperparameters termasuk jumlah epoch, ukuran batch, laju pembelajaran, dan jumlah lapisan serta neuron dalam jaringan saraf.\n",
        "Pengaturan: Ditentukan melalui teknik seperti grid search, random search, atau menggunakan pendekatan berbasis pengalaman.\n",
        "\n",
        "jadi Parameters: Dipelajari dari data selama pelatihan.\n",
        "Hyperparameters: Ditetapkan sebelum pelatihan dan mengontrol cara model dilatih."
      ],
      "metadata": {
        "id": "xCjpowCfXBpT"
      }
    },
    {
      "cell_type": "markdown",
      "metadata": {
        "id": "Cplhcw09ZCFU"
      },
      "source": [
        "[ ANSWER HERE ]"
      ]
    },
    {
      "cell_type": "code",
      "execution_count": 23,
      "metadata": {
        "id": "6jCK25QXZCFV"
      },
      "outputs": [],
      "source": [
        "# TODO: Tentukan hyperparameters\n",
        "epochs = 50\n",
        "num_layers = 3\n",
        "num_neurons = 64\n",
        "learning_rate = 0.001"
      ]
    },
    {
      "cell_type": "code",
      "execution_count": 24,
      "metadata": {
        "id": "W_6bIeQ_ZCFV"
      },
      "outputs": [],
      "source": [
        "# TODO: Tentukan besaran input untuk model\n",
        "num_inputs = X.shape[1]\n",
        "\n",
        "model = Net(in_features=num_inputs, num_layers=num_layers, num_neurons=num_neurons)\n",
        "model = model.to(device)"
      ]
    },
    {
      "cell_type": "code",
      "execution_count": 25,
      "metadata": {
        "id": "f6ldLoneZCFW"
      },
      "outputs": [],
      "source": [
        "# Set the optimizer and loss function\n",
        "optimizer = torch.optim.Adam(model.parameters(), lr=learning_rate)\n",
        "criterion = nn.BCELoss()"
      ]
    },
    {
      "cell_type": "code",
      "execution_count": 26,
      "metadata": {
        "id": "0Z-DVlMqZCFW",
        "colab": {
          "base_uri": "https://localhost:8080/"
        },
        "outputId": "195b3e46-2425-480e-e187-e87b6a8aec51"
      },
      "outputs": [
        {
          "output_type": "stream",
          "name": "stdout",
          "text": [
            "Number of parameters: 1,985\n",
            "Number of trainable parameters: 1,985\n"
          ]
        }
      ],
      "source": [
        "# Check the number of parameters\n",
        "print(\"Number of parameters: {:,}\".format(sum(p.numel() for p in model.parameters() if p.requires_grad)))\n",
        "print(\"Number of trainable parameters: {:,}\".format(sum(p.numel() for p in model.parameters() if p.requires_grad)))"
      ]
    },
    {
      "cell_type": "code",
      "execution_count": 27,
      "metadata": {
        "id": "-iDhRA5rZCFX"
      },
      "outputs": [],
      "source": [
        "# [ PERTANYAAN ]\n",
        "# Mengapa total \"trainable parameters\" sama dengan total keseluruhan parameter?"
      ]
    },
    {
      "cell_type": "markdown",
      "source": [
        "Total \"trainable parameters\" sama dengan total keseluruhan parameter jika semua parameter dalam model dapat diperbarui selama proses pelatihan. Dengan kata lain, tidak ada parameter yang dibekukan atau ditetapkan sebagai non-trainable. Dalam konteks neural network, parameter biasanya terdiri dari bobot (weights) dan bias. Jika semua bobot dan bias dalam model tersebut dioptimalkan melalui backpropagation, maka semua parameter tersebut adalah \"trainable\", sehingga total \"trainable parameters\" akan sama dengan total keseluruhan parameter.\n",
        "\n",
        "Namun, jika ada beberapa layer yang parameternya dibekukan (misalnya pada transfer learning, ketika layer-layer awal tidak diperbarui), maka total parameter akan lebih besar daripada trainable parameters karena hanya sebagian dari total parameter yang diperbarui selama pelatihan."
      ],
      "metadata": {
        "id": "9Gjg1fbBYcF-"
      }
    },
    {
      "cell_type": "markdown",
      "metadata": {
        "id": "onibsgQ3ZCFX"
      },
      "source": [
        "[ ANSWER HERE ]"
      ]
    },
    {
      "cell_type": "markdown",
      "metadata": {
        "id": "IU8zMjOQZCFX"
      },
      "source": [
        "### Train the Model"
      ]
    },
    {
      "cell_type": "code",
      "execution_count": 28,
      "metadata": {
        "id": "xqITlQXCZCFX",
        "colab": {
          "base_uri": "https://localhost:8080/"
        },
        "outputId": "f75a4b51-3961-40e8-8547-8d24f0c65881"
      },
      "outputs": [
        {
          "output_type": "stream",
          "name": "stdout",
          "text": [
            "Start training ...\n",
            "  - Epoch: 0 \tTraining_loss: 0.001579\n",
            "  - Epoch: 10 \tTraining_loss: 0.000043\n",
            "  - Epoch: 20 \tTraining_loss: 0.000019\n",
            "  - Epoch: 30 \tTraining_loss: 0.000010\n",
            "  - Epoch: 40 \tTraining_loss: 0.000007\n"
          ]
        }
      ],
      "source": [
        "print(\"Start training ...\")\n",
        "for epoch in range(epochs):\n",
        "    train_loss = 0.0\n",
        "    model.train()\n",
        "\n",
        "    for data, label in Train_dataset:\n",
        "        data = data.to(device)\n",
        "        label = label.squeeze()\n",
        "        label = label.to(device)\n",
        "        optimizer.zero_grad()\n",
        "        output = model.forward(data.float())\n",
        "\n",
        "        loss = criterion(output.squeeze(), label.float())\n",
        "        loss.backward()\n",
        "        optimizer.step()\n",
        "        train_loss += loss.item()\n",
        "\n",
        "    train_loss = train_loss / len(Train_dataset.dataset)\n",
        "    if(epoch % 10 == 0):\n",
        "        print('  - Epoch: {} \\tTraining_loss: {:.6f}'.format(epoch, train_loss))"
      ]
    },
    {
      "cell_type": "markdown",
      "metadata": {
        "id": "CL3lJaDVZCFY"
      },
      "source": [
        "### Model ACCURACY should reach >= 95%"
      ]
    },
    {
      "cell_type": "code",
      "execution_count": 29,
      "metadata": {
        "id": "ReIlo4acxGCR"
      },
      "outputs": [],
      "source": [
        "# TODO: Jika akurasi masih dibawah 95%, silakan lakukan fine-tuning"
      ]
    },
    {
      "cell_type": "code",
      "execution_count": 30,
      "metadata": {
        "id": "IPQKtHsBZCFZ",
        "colab": {
          "base_uri": "https://localhost:8080/"
        },
        "outputId": "68bb845d-ca15-4305-b9e0-ab5e87e95beb"
      },
      "outputs": [
        {
          "output_type": "stream",
          "name": "stdout",
          "text": [
            "Model accuracy: 99.97%\n"
          ]
        }
      ],
      "source": [
        "correct_preds = 0\n",
        "total_samples = 0\n",
        "\n",
        "with torch.no_grad():\n",
        "    for data, labels in Test_dataset:\n",
        "        labels = labels.squeeze()\n",
        "        output = model.forward(data.float())\n",
        "        output = output.squeeze(1)\n",
        "\n",
        "        predictions = (output >= 0.5).float()\n",
        "        correct_preds += (predictions == labels).sum().item()\n",
        "        total_samples += labels.numel()\n",
        "\n",
        "accuracy = correct_preds / total_samples\n",
        "print(\"Model accuracy: {:.2f}%\".format(accuracy*100))"
      ]
    }
  ],
  "metadata": {
    "accelerator": "GPU",
    "colab": {
      "gpuType": "T4",
      "provenance": []
    },
    "kaggle": {
      "accelerator": "gpu",
      "dataSources": [
        {
          "datasetId": 3752264,
          "sourceId": 6492730,
          "sourceType": "datasetVersion"
        }
      ],
      "dockerImageVersionId": 30626,
      "isGpuEnabled": true,
      "isInternetEnabled": true,
      "language": "python",
      "sourceType": "notebook"
    },
    "kernelspec": {
      "display_name": "Python 3",
      "name": "python3"
    },
    "language_info": {
      "codemirror_mode": {
        "name": "ipython",
        "version": 3
      },
      "file_extension": ".py",
      "mimetype": "text/x-python",
      "name": "python",
      "nbconvert_exporter": "python",
      "pygments_lexer": "ipython3",
      "version": "3.11.9"
    }
  },
  "nbformat": 4,
  "nbformat_minor": 0
}